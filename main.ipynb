{
 "cells": [
  {
   "cell_type": "code",
   "execution_count": 1,
   "metadata": {},
   "outputs": [],
   "source": [
    "import os\n",
    "import glob\n",
    "import numpy as np\n",
    "import pandas as pd\n",
    "import matplotlib.pyplot as plt\n",
    "\n",
    "import torch\n",
    "import torch.nn as nn\n",
    "import torch.nn.functional as F\n",
    "import torch.optim as optim\n",
    "from torch.utils.data import Dataset, DataLoader\n",
    "from torchvision import transforms\n",
    "from torchvision.models import resnet18\n",
    "\n",
    "import string\n",
    "from tqdm.notebook import tqdm\n",
    "import cv2\n",
    "from PIL import Image\n",
    "from sklearn.model_selection import train_test_split\n",
    "from sklearn.metrics import accuracy_score\n",
    "import multiprocessing as mp"
   ]
  },
  {
   "cell_type": "code",
   "execution_count": 2,
   "metadata": {},
   "outputs": [
    {
     "name": "stdout",
     "output_type": "stream",
     "text": [
      "16\n"
     ]
    }
   ],
   "source": [
    "cpu_count = mp.cpu_count()\n",
    "print(cpu_count)"
   ]
  },
  {
   "cell_type": "code",
   "execution_count": 3,
   "metadata": {},
   "outputs": [],
   "source": [
    "# Train-test split\n",
    "\n",
    "data_path = \"data/\""
   ]
  },
  {
   "cell_type": "code",
   "execution_count": 4,
   "metadata": {},
   "outputs": [
    {
     "name": "stdout",
     "output_type": "stream",
     "text": [
      "1070\n",
      "[5]\n"
     ]
    }
   ],
   "source": [
    "image_fns = os.listdir(data_path)\n",
    "print(len(image_fns))\n",
    "print(np.unique([len(image_fn.split(\".\")[0]) for image_fn in image_fns]))"
   ]
  },
  {
   "cell_type": "code",
   "execution_count": 5,
   "metadata": {},
   "outputs": [],
   "source": [
    "for idx, image_fn in enumerate(image_fns):\n",
    "    if len(image_fn.split(\".\")[0]) != 5:\n",
    "        print(image_fn)"
   ]
  },
  {
   "cell_type": "code",
   "execution_count": 6,
   "metadata": {},
   "outputs": [
    {
     "name": "stdout",
     "output_type": "stream",
     "text": [
      "802 268\n"
     ]
    }
   ],
   "source": [
    "image_fns_train, image_fns_test = train_test_split(image_fns,random_state=0)\n",
    "print(len(image_fns_train), len(image_fns_test))"
   ]
  },
  {
   "cell_type": "code",
   "execution_count": 7,
   "metadata": {},
   "outputs": [
    {
     "name": "stdout",
     "output_type": "stream",
     "text": [
      "19\n",
      "['2', '3', '4', '5', '6', '7', '8', 'b', 'c', 'd', 'e', 'f', 'g', 'm', 'n', 'p', 'w', 'x', 'y']\n"
     ]
    }
   ],
   "source": [
    "# Define character maps\n",
    "\n",
    "image_ns = [image_fn.split(\".\")[0] for image_fn in image_fns]\n",
    "image_ns = \"\".join(image_ns)\n",
    "letters = sorted(list(set(list(image_ns))))\n",
    "print(len(letters))\n",
    "print(letters)"
   ]
  },
  {
   "cell_type": "code",
   "execution_count": 8,
   "metadata": {},
   "outputs": [
    {
     "name": "stdout",
     "output_type": "stream",
     "text": [
      "20\n",
      "['-', '2', '3', '4', '5', '6', '7', '8', 'b', 'c', 'd', 'e', 'f', 'g', 'm', 'n', 'p', 'w', 'x', 'y']\n",
      "{0: '-', 1: '2', 2: '3', 3: '4', 4: '5', 5: '6', 6: '7', 7: '8', 8: 'b', 9: 'c', 10: 'd', 11: 'e', 12: 'f', 13: 'g', 14: 'm', 15: 'n', 16: 'p', 17: 'w', 18: 'x', 19: 'y'}\n",
      "{'-': 0, '2': 1, '3': 2, '4': 3, '5': 4, '6': 5, '7': 6, '8': 7, 'b': 8, 'c': 9, 'd': 10, 'e': 11, 'f': 12, 'g': 13, 'm': 14, 'n': 15, 'p': 16, 'w': 17, 'x': 18, 'y': 19}\n"
     ]
    }
   ],
   "source": [
    "vocabulary = [\"-\"] + letters \n",
    "print(len(vocabulary))\n",
    "print(vocabulary)\n",
    "# 캐릭터 맵 정의\n",
    "idx2char = {k:v for k,v in enumerate(vocabulary,start=0)}\n",
    "print(idx2char)\n",
    "\n",
    "# 역으로 캐릭터 맵 변환\n",
    "char2idx = {v:k for k,v in idx2char.items()}\n",
    "print(char2idx)\n"
   ]
  },
  {
   "cell_type": "code",
   "execution_count": 9,
   "metadata": {},
   "outputs": [],
   "source": [
    "# Define data loader\n",
    "\n",
    "batch_size = 16"
   ]
  },
  {
   "cell_type": "code",
   "execution_count": 10,
   "metadata": {},
   "outputs": [],
   "source": [
    "class CAPTCHADataset(Dataset):\n",
    "    def __init__(self,data_dir,image_fns):\n",
    "        self.data_dir = data_dir\n",
    "        self.image_fns = image_fns\n",
    "\n",
    "    def __len__(self):\n",
    "        return len(self.image_fns)\n",
    "    \n",
    "    def __getitem__(self,index):\n",
    "        # 이미지 파일명\n",
    "        image_fn = self.image_fns[index]\n",
    "        # 이미지 파일 경로\n",
    "        image_fp = os.path.join(self.data_dir,image_fn)\n",
    "        # 이미지 파일 열기\n",
    "        image = Image.open(image_fp).convert(\"RGB\")\n",
    "        # 이미지를 변환\n",
    "        image = self.transforms(image)\n",
    "        # 이미지 파일명에서 라벨 추출\n",
    "        text = image_fn.split(\".\")[0]\n",
    "        return image, text\n",
    "        \n",
    "    def transforms(self, image):        \n",
    "        # transforms.Compose : Transform에 여러 단계가 존재하는 경우 하나로 묶어주는 역할\n",
    "        # transforms에 속한 함수들을 compose를 통해 묶어 한번에 처리 가능\n",
    "        transform_ops = transforms.Compose([\n",
    "            # 텐서로 변환\n",
    "            transforms.ToTensor(),\n",
    "            # 정규화\n",
    "            transforms.Normalize(mean=(0.485,0.456,0.406),std=(0.229,0.224,0.225))\n",
    "        ])\n",
    "\n",
    "        return transform_ops(image)\n"
   ]
  },
  {
   "cell_type": "code",
   "execution_count": 11,
   "metadata": {},
   "outputs": [
    {
     "name": "stdout",
     "output_type": "stream",
     "text": [
      "51 17\n"
     ]
    }
   ],
   "source": [
    "\n",
    "# 데이터셋 정의\n",
    "trainset = CAPTCHADataset(data_path,image_fns_train)\n",
    "testset = CAPTCHADataset(data_path,image_fns_test)\n",
    "\n",
    "# 데이터 로더 정의\n",
    "# 불러온 데이터셋을 순회할 수 있도록 해줌\n",
    "train_loader = DataLoader(trainset,batch_size=batch_size,num_workers=0,shuffle=True)\n",
    "test_loader = DataLoader(testset,batch_size=batch_size,num_workers=0,shuffle=False)\n",
    "\n",
    "\n",
    "print(len(train_loader), len(test_loader))"
   ]
  },
  {
   "cell_type": "code",
   "execution_count": 12,
   "metadata": {},
   "outputs": [
    {
     "name": "stdout",
     "output_type": "stream",
     "text": [
      "torch.Size([16, 3, 50, 200]) ('wnpec', '43p5d', 'mc35n', 'bd3b7', 'g55b4', 'dw8d3', 'eppg3', 'fcne6', 'nwncn', 'xe8xm', 'cd4eg', 'yemy4', 'c8n8c', '43gey', 'bm3p8', 'bw5nf')\n"
     ]
    }
   ],
   "source": [
    "# 배치 사이즈만큼 데이터를 불러옴\n",
    "\n",
    "image_batch, text_batch = next(iter(train_loader))\n",
    "print(image_batch.size(),text_batch)"
   ]
  },
  {
   "cell_type": "code",
   "execution_count": 13,
   "metadata": {},
   "outputs": [
    {
     "name": "stdout",
     "output_type": "stream",
     "text": [
      "20\n"
     ]
    }
   ],
   "source": [
    "# Define model\n",
    "\n",
    "num_chars = len(char2idx)\n",
    "print(num_chars)\n",
    "# RNN의 은닉층 수\n",
    "rnn_hidden_size = 256"
   ]
  },
  {
   "cell_type": "code",
   "execution_count": 14,
   "metadata": {},
   "outputs": [
    {
     "name": "stdout",
     "output_type": "stream",
     "text": [
      "cuda\n"
     ]
    }
   ],
   "source": [
    "# 쿠다 사용\n",
    "device = torch.device(\"cuda\" if torch.cuda.is_available() else \"cpu\")\n",
    "print(device)\n"
   ]
  },
  {
   "cell_type": "code",
   "execution_count": 15,
   "metadata": {},
   "outputs": [
    {
     "name": "stderr",
     "output_type": "stream",
     "text": [
      "d:\\Tiz\\data-vaoucher\\recapha\\venv\\Lib\\site-packages\\torchvision\\models\\_utils.py:208: UserWarning: The parameter 'pretrained' is deprecated since 0.13 and may be removed in the future, please use 'weights' instead.\n",
      "  warnings.warn(\n",
      "d:\\Tiz\\data-vaoucher\\recapha\\venv\\Lib\\site-packages\\torchvision\\models\\_utils.py:223: UserWarning: Arguments other than a weight enum or `None` for 'weights' are deprecated since 0.13 and may be removed in the future. The current behavior is equivalent to passing `weights=ResNet18_Weights.IMAGENET1K_V1`. You can also use `weights=ResNet18_Weights.DEFAULT` to get the most up-to-date weights.\n",
      "  warnings.warn(msg)\n"
     ]
    }
   ],
   "source": [
    "\n",
    "# resnet 모델 불러오기\n",
    "# Resnet모델은 2015년 마이크로소프트에서 개발한 CNN모델\n",
    "# Resnet18은 18개의 레이어로 구성된 모델\n",
    "resnet = resnet18(pretrained=True)"
   ]
  },
  {
   "cell_type": "code",
   "execution_count": 16,
   "metadata": {},
   "outputs": [],
   "source": [
    "class CRNN(nn.Module):\n",
    "    # nn.Module을 상속받아 모델 생성\n",
    "    # nn.Module은 모든 신경망 모듈의 기본이 되는 클래스\n",
    "\n",
    "    # Args:\n",
    "    # num_chars: 캐릭터 맵의 길이\n",
    "    # rnn_hidden_size: RNN의 은닉층 수\n",
    "    # drop_out: 드롭아웃 비율\n",
    "\n",
    "    def __init__(self, num_chars,rnn_hidden_size=256,dropout=0.1):\n",
    "        # super()를 통해 nn.Module의 생성자를 호출\n",
    "        super(CRNN,self).__init__()\n",
    "        self.num_chars = num_chars\n",
    "        self.rnn_hidden_size = rnn_hidden_size\n",
    "        self.dropout = dropout\n",
    "\n",
    "        # CNN Part1\n",
    "\n",
    "        # resnet의 마지막 레이어를 제외한 모든 레이어를 가져옴\n",
    "        resnet_modules = list(resnet.children())[:-3]\n",
    "        # cnn_p1에 resnet의 모든 레이어를 저장\n",
    "        self.cnn_p1 = nn.Sequential(*resnet_modules)\n",
    "\n",
    "        # CNN Part2\n",
    "        self.cnn_p2 = nn.Sequential(\n",
    "            # Conv2d : 2차원 컨볼루션 레이어\n",
    "            # in_channels : 입력 채널 수\n",
    "            # out_channels : 출력 채널 수\n",
    "            # kernel_size : 커널 크기\n",
    "            # stride : 스트라이드 -> 커널이 이동하는 간격\n",
    "            # padding : 패딩 크기            \n",
    "            nn.Conv2d(256,256,kernel_size=(3,6),stride=1,padding=1),\n",
    "            # BatchNorm2d : 2차원 배치 정규화\n",
    "            # 정규화 : 데이터를 평균 0, 분산 1로 만들어 학습이 잘 일어나도록 돕는 방법\n",
    "            nn.BatchNorm2d(256),\n",
    "            # ReLU : 활성화 함수 \n",
    "            # ReLU : 입력값이 0보다 작으면 0, 0보다 크면 입력값 그대로 출력\n",
    "            # inplace : 입력값을 직접 변경할지 여부\n",
    "            nn.ReLU(inplace=True),\n",
    "        )\n",
    "        # Linear : 선형 레이어\n",
    "        # 이 레이어는 입력과 출력을 모두 연결해주는 역할\n",
    "\n",
    "        self.linear1 = nn.Linear(1024,256)\n",
    "\n",
    "        # RNN\n",
    "\n",
    "        # GRU : Gated Recurrent Unit\n",
    "        # 순차 데이터를 처리하는 RNN의 일종\n",
    "        # Reset Gate와 Update Gate를 사용해 순차 데이터를 처리\n",
    "        # Reset Gate : 이전 시점의 정보를 얼마나 반영할지 결정\n",
    "        # Update Gate : 현재 시점의 정보를 얼마나 반영할지 결정\n",
    "\n",
    "        \n",
    "        self.rnn1 = nn.GRU(\n",
    "            # 입력 채널 수\n",
    "            input_size=rnn_hidden_size,\n",
    "            # 은닉층 수 (RNN의 은닉층 수) \n",
    "            # 은닉층이란 입력층과 출력층 사이에 존재하는 중간층으로서, 입력층과 출력층의 연결을 담당하는 노드의 집합\n",
    "            hidden_size=rnn_hidden_size,\n",
    "            # bidirectional : 양방향 RNN 사용 여부\n",
    "            # 양방향 RNN은 입력 데이터를 앞에서부터 읽는 것과 뒤에서부터 읽는 것 두 가지로 나누어 읽음\n",
    "            bidirectional=True,\n",
    "            # batch_first : 배치 사이즈를 첫번째 차원으로 설정\n",
    "            batch_first=True,\n",
    "        )\n",
    "        # rnn2는 rnn1과 동일한 설정\n",
    "        # 두개의 rnn을 사용하면 더 정확한 예측이 가능\n",
    "        self.rnn2 = nn.GRU(\n",
    "            input_size=rnn_hidden_size,\n",
    "            hidden_size=rnn_hidden_size,\n",
    "            bidirectional=True,\n",
    "            batch_first=True,\n",
    "        )\n",
    "\n",
    "        self.linear2 = nn.Linear(self.rnn_hidden_size*2,num_chars)\n",
    "\n",
    "    def forward(self,batch:torch.Tensor):\n",
    "        # forward 함수는 모델이 학습 데이터를 입력받아 순전파 연산을 진행시키는 함수\n",
    "\n",
    "\n",
    "        batch = self.cnn_p1(batch)\n",
    "\n",
    "        batch = self.cnn_p2(batch)\n",
    "\n",
    "        # permute : 텐서의 차원을 변경\n",
    "        # 왜 텐서의 차원을 변경하는가? -> RNN에 입력하기 위해\n",
    "        # RNN은 입력 데이터의 차원이 (배치 사이즈, 시퀀스 길이, 입력 채널 수)로 고정되어 있음\n",
    "        batch = batch.permute(0,3,1,2)\n",
    "\n",
    "        # batch_size : 배치 사이즈\n",
    "        batch_size = batch.size(0)\n",
    "        # T: 시퀀스 길이\n",
    "        # 시퀀스는 순서가 있는 데이터의 집합\n",
    "        T = batch.size(1)\n",
    "        # view : 텐서의 차원을 변경\n",
    "        # view(batch_size,T,-1) : 배치 사이즈와 시퀀스 길이는 그대로 유지하고 나머지 차원을 -1로 설정\n",
    "        # 차원을 -1로 설정하면 텐서의 크기가 자동으로 계산됨 -> 즉, 텐서의 크기를 자동으로 계산하라는 의미\n",
    "        # [batch_size, T==width, num_features==channels*height] \n",
    "        batch = batch.view(batch_size,T,-1)\n",
    "\n",
    "        batch = self.linear1(batch)\n",
    "        # print(batch.size()) # torch.Size([-1, 10, 256])\n",
    "        \n",
    "        batch, hidden = self.rnn1(batch)\n",
    "        feature_size = batch.size(2)\n",
    "        batch = batch[:, :, :feature_size//2] + batch[:, :, feature_size//2:]\n",
    "        # print(batch.size()) # torch.Size([-1, 10, 256])\n",
    "        \n",
    "        batch, hidden = self.rnn2(batch)\n",
    "        # print(batch.size()) # torch.Size([-1, 10, 512])\n",
    "        \n",
    "        batch = self.linear2(batch)\n",
    "        # print(batch.size()) # torch.Size([-1, 10, 20])\n",
    "        \n",
    "        batch = batch.permute(1, 0, 2) # [T==10, batch_size, num_classes==num_features]\n",
    "        # print(batch.size()) # torch.Size([10, -1, 20])\n",
    "        \n",
    "        return batch"
   ]
  },
  {
   "cell_type": "code",
   "execution_count": 17,
   "metadata": {},
   "outputs": [],
   "source": [
    "def weights_init(m):\n",
    "    # weights_init 함수는 모델의 레이어의 가중치를 초기화하는 함수\n",
    "    # 가중치를 초기화시키는 이유는 모델의 성능을 높이기 위함\n",
    "    # m : 모델의 레이어\n",
    "\n",
    "    classname = m.__class__.__name__\n",
    "    # m.__class__.__name__ : 모델의 레이어의 이름을 가져옴\n",
    "\n",
    "    if type(m) in [nn.Linear, nn.Conv2d, nn.Conv1d]:\n",
    "        # xavier_uniform_ : 가중치를 균등 분포로 초기화\n",
    "        # 균등 분포란? : 모든 구간에서 동일한 확률을 가지는 분포\n",
    "        torch.nn.init.xavier_uniform_(m.weight)\n",
    "        # m.bias.data.fill_(0.01) : 편향을 0.01로 초기화\n",
    "        if m.bias is not None:\n",
    "            # 편향이 None이 아니면\n",
    "            m.bias.data.fill_(0.01)\n",
    "    elif classname.find('BatchNorm') != -1:\n",
    "        # BatchNorm 레이어의 경우\n",
    "        # m.weight.data.normal_(1.0, 0.02) : 가중치를 정규 분포로 초기화\n",
    "        # 정규 분포란? : 평균과 표준편차를 가지는 분포         \n",
    "        m.weight.data.normal_(1.0, 0.02)\n",
    "        m.bias.data.fill_(0)"
   ]
  },
  {
   "cell_type": "code",
   "execution_count": 18,
   "metadata": {},
   "outputs": [],
   "source": [
    "# 모델 생성\n",
    "crnn = CRNN(num_chars,rnn_hidden_size=rnn_hidden_size)\n",
    "# 모델의 가중치 초기화\n",
    "crnn.apply(weights_init)\n",
    "# 모델을 쿠다에 할당\n",
    "crnn = crnn.to(device)"
   ]
  },
  {
   "cell_type": "code",
   "execution_count": 19,
   "metadata": {},
   "outputs": [
    {
     "name": "stdout",
     "output_type": "stream",
     "text": [
      "('wnpec', '43p5d', 'mc35n', 'bd3b7', 'g55b4', 'dw8d3', 'eppg3', 'fcne6', 'nwncn', 'xe8xm', 'cd4eg', 'yemy4', 'c8n8c', '43gey', 'bm3p8', 'bw5nf')\n",
      "torch.Size([10, 16, 20])\n"
     ]
    }
   ],
   "source": [
    "# logits : 모델의 출력값\n",
    "text_batch_logits = crnn(image_batch.to(device))\n",
    "\n",
    "print(text_batch)\n",
    "print(text_batch_logits.shape)"
   ]
  },
  {
   "cell_type": "code",
   "execution_count": 20,
   "metadata": {},
   "outputs": [],
   "source": [
    "# 손실 함수 정의\n",
    "# 손실함수란, 모델의 출력값과 실제값의 차이를 계산하는 함수\n",
    "# 손실 함수의 값이 작을수록 모델의 성능이 좋음\n",
    "\n",
    "# CTC Loss : Connectionist Temporal Classification Loss\n",
    "# CTC Loss는 음성 인식, 문자 인식 등의 문제에서 사용되는 손실 함수\n",
    "criterion = nn.CTCLoss(blank=0)"
   ]
  },
  {
   "cell_type": "code",
   "execution_count": 21,
   "metadata": {},
   "outputs": [],
   "source": [
    "def encode_text_batch(text_batch):\n",
    "    # encode_text_batch 함수는 텍스트 배치를 인코딩하는 함수\n",
    "    \n",
    "    text_batch_targets_lens = [len(text) for text in text_batch]\n",
    "    text_batch_targets_lens = torch.IntTensor(text_batch_targets_lens)\n",
    "    \n",
    "    text_batch_concat = \"\".join(text_batch)\n",
    "    text_batch_targets = [char2idx[c] for c in text_batch_concat]\n",
    "    text_batch_targets = torch.IntTensor(text_batch_targets)\n",
    "    \n",
    "    return text_batch_targets, text_batch_targets_lens"
   ]
  },
  {
   "cell_type": "code",
   "execution_count": 22,
   "metadata": {},
   "outputs": [],
   "source": [
    "def compute_loss(text_batch, text_batch_logits):\n",
    "    \"\"\"\n",
    "    text_batch: list of strings of length equal to batch size\n",
    "    text_batch_logits: Tensor of size([T, batch_size, num_classes])\n",
    "    \"\"\"\n",
    "    # compute_loss 함수는 손실 함수를 계산하는 함수\n",
    "    \n",
    "    text_batch_logps = F.log_softmax(text_batch_logits, 2) # [T, batch_size, num_classes]  \n",
    "    text_batch_logps_lens = torch.full(size=(text_batch_logps.size(1),), \n",
    "                                       fill_value=text_batch_logps.size(0), \n",
    "                                       dtype=torch.int32).to(device) # [batch_size] \n",
    "    #print(text_batch_logps.shape)\n",
    "    #print(text_batch_logps_lens) \n",
    "    text_batch_targets, text_batch_targets_lens = encode_text_batch(text_batch)\n",
    "    #print(text_batch_targets)\n",
    "    #print(text_batch_targets_lens)\n",
    "    loss = criterion(text_batch_logps, text_batch_targets, text_batch_logps_lens, text_batch_targets_lens)\n",
    "\n",
    "    return loss"
   ]
  },
  {
   "cell_type": "code",
   "execution_count": 23,
   "metadata": {},
   "outputs": [
    {
     "data": {
      "text/plain": [
       "tensor(4.3772, device='cuda:0', grad_fn=<MeanBackward0>)"
      ]
     },
     "execution_count": 23,
     "metadata": {},
     "output_type": "execute_result"
    }
   ],
   "source": [
    "compute_loss(text_batch, text_batch_logits)"
   ]
  },
  {
   "cell_type": "code",
   "execution_count": 24,
   "metadata": {},
   "outputs": [],
   "source": [
    "# 모델 학습\n",
    "\n",
    "# 학습 횟수\n",
    "num_epochs = 50 \n",
    "# 학습률이란, 모델이 학습할 때 가중치를 얼마나 빠르게 업데이트할지를 결정하는 하이퍼파라미터\n",
    "lr = 0.001\n",
    "# weight_decay란, 모델의 가중치가 커지는 것을 방지하기 위해 가중치를 감소시키는 하이퍼파라미터\n",
    "# 1e-3 : 0.001\n",
    "weight_decay = 1e-3\n",
    "# clip_norm이란, 그래디언트 폭주를 방지하기 위해 그래디언트를 잘라내는 하이퍼파라미터\n",
    "# 그레디언트 폭주란, 그래디언트가 너무 커져서 모델의 가중치가 발산하는 현상\n",
    "# 그레디언트란, 손실 함수의 값이 작아지도록 모델의 가중치를 업데이트하는 방향을 결정하는 값\n",
    "clip_norm = 5"
   ]
  },
  {
   "cell_type": "code",
   "execution_count": 25,
   "metadata": {},
   "outputs": [],
   "source": [
    "# 옵티마이저 정의\n",
    "# optimizer: 모델의 가중치를 업데이트하는 방법을 결정하는 하이퍼파라미터\n",
    "\n",
    "# Adam : 모멘텀과 RMSProp을 합친 것 \n",
    "# Momentum : 매개변수의 이동에 속도를 부여하는 것\n",
    "    # 구슬을 떨어트리면 급한 경사에서 빠르게 굴러가듯이 매개변수의 변화에도 속도를 부여\n",
    "    # SGD(Stochastic Gradient Descent, 확률적 경사 하강법)의 단점을 보완\n",
    "# RMSProp : 모델의 관성을 줄이기 위해 모델의 가중치를 업데이트할 때 관성을 줄이는 방법\n",
    "optimizer = optim.Adam(crnn.parameters(), lr=lr, weight_decay=weight_decay)\n",
    "# 스케줄러 정의\n",
    "# 스케줄러란, 학습률을 조절하는 하이퍼파라미터\n",
    "# ReduceLROnPlateau : 학습률을 조절하는 방법 중 하나\n",
    "ls_scheduler = optim.lr_scheduler.ReduceLROnPlateau(optimizer,verbose=True,patience=5)\n"
   ]
  },
  {
   "cell_type": "code",
   "execution_count": 109,
   "metadata": {},
   "outputs": [
    {
     "data": {
      "application/vnd.jupyter.widget-view+json": {
       "model_id": "312fd8b9f84744488fc6b025a932f546",
       "version_major": 2,
       "version_minor": 0
      },
      "text/plain": [
       "  0%|          | 0/50 [00:00<?, ?it/s]"
      ]
     },
     "metadata": {},
     "output_type": "display_data"
    },
    {
     "data": {
      "application/vnd.jupyter.widget-view+json": {
       "model_id": "1544d1b938514077834b778187812d0c",
       "version_major": 2,
       "version_minor": 0
      },
      "text/plain": [
       "  0%|          | 0/51 [00:00<?, ?it/s]"
      ]
     },
     "metadata": {},
     "output_type": "display_data"
    },
    {
     "name": "stdout",
     "output_type": "stream",
     "text": [
      "Epoch:1    Loss:0.006118684751438159    NumUpdates:51\n"
     ]
    },
    {
     "data": {
      "application/vnd.jupyter.widget-view+json": {
       "model_id": "41fb7c9b52dc41968bc7f5860451bebe",
       "version_major": 2,
       "version_minor": 0
      },
      "text/plain": [
       "  0%|          | 0/51 [00:00<?, ?it/s]"
      ]
     },
     "metadata": {},
     "output_type": "display_data"
    },
    {
     "name": "stdout",
     "output_type": "stream",
     "text": [
      "Epoch:2    Loss:0.005819600488643582    NumUpdates:51\n"
     ]
    },
    {
     "data": {
      "application/vnd.jupyter.widget-view+json": {
       "model_id": "18f39818eb994f08991eec9dc89ee8e7",
       "version_major": 2,
       "version_minor": 0
      },
      "text/plain": [
       "  0%|          | 0/51 [00:00<?, ?it/s]"
      ]
     },
     "metadata": {},
     "output_type": "display_data"
    },
    {
     "name": "stdout",
     "output_type": "stream",
     "text": [
      "Epoch:3    Loss:0.005672229079566165    NumUpdates:51\n"
     ]
    },
    {
     "data": {
      "application/vnd.jupyter.widget-view+json": {
       "model_id": "68b2fc3c29754d608df50c003307875a",
       "version_major": 2,
       "version_minor": 0
      },
      "text/plain": [
       "  0%|          | 0/51 [00:00<?, ?it/s]"
      ]
     },
     "metadata": {},
     "output_type": "display_data"
    },
    {
     "name": "stdout",
     "output_type": "stream",
     "text": [
      "Epoch:4    Loss:0.00555372470761558    NumUpdates:51\n"
     ]
    },
    {
     "data": {
      "application/vnd.jupyter.widget-view+json": {
       "model_id": "061d9ac4a7f743afa6bf024bcfab25ae",
       "version_major": 2,
       "version_minor": 0
      },
      "text/plain": [
       "  0%|          | 0/51 [00:00<?, ?it/s]"
      ]
     },
     "metadata": {},
     "output_type": "display_data"
    },
    {
     "name": "stdout",
     "output_type": "stream",
     "text": [
      "Epoch:5    Loss:0.005437294315711102    NumUpdates:51\n"
     ]
    },
    {
     "data": {
      "application/vnd.jupyter.widget-view+json": {
       "model_id": "fa45d0196db844188271d5cafc66b914",
       "version_major": 2,
       "version_minor": 0
      },
      "text/plain": [
       "  0%|          | 0/51 [00:00<?, ?it/s]"
      ]
     },
     "metadata": {},
     "output_type": "display_data"
    },
    {
     "name": "stdout",
     "output_type": "stream",
     "text": [
      "Epoch:6    Loss:0.005322005512996339    NumUpdates:51\n"
     ]
    },
    {
     "data": {
      "application/vnd.jupyter.widget-view+json": {
       "model_id": "c3b0c396154348f7b248ede9e921d50e",
       "version_major": 2,
       "version_minor": 0
      },
      "text/plain": [
       "  0%|          | 0/51 [00:00<?, ?it/s]"
      ]
     },
     "metadata": {},
     "output_type": "display_data"
    },
    {
     "name": "stdout",
     "output_type": "stream",
     "text": [
      "Epoch:7    Loss:0.005202848886541438    NumUpdates:51\n"
     ]
    },
    {
     "data": {
      "application/vnd.jupyter.widget-view+json": {
       "model_id": "d247d3ab8743429b9b539a746f943c30",
       "version_major": 2,
       "version_minor": 0
      },
      "text/plain": [
       "  0%|          | 0/51 [00:00<?, ?it/s]"
      ]
     },
     "metadata": {},
     "output_type": "display_data"
    },
    {
     "name": "stdout",
     "output_type": "stream",
     "text": [
      "Epoch:8    Loss:0.0050594075582921505    NumUpdates:51\n"
     ]
    },
    {
     "data": {
      "application/vnd.jupyter.widget-view+json": {
       "model_id": "3ab02fc94b584e46a64438bff331e17d",
       "version_major": 2,
       "version_minor": 0
      },
      "text/plain": [
       "  0%|          | 0/51 [00:00<?, ?it/s]"
      ]
     },
     "metadata": {},
     "output_type": "display_data"
    },
    {
     "name": "stdout",
     "output_type": "stream",
     "text": [
      "Epoch:9    Loss:0.004900647998403977    NumUpdates:51\n"
     ]
    },
    {
     "data": {
      "application/vnd.jupyter.widget-view+json": {
       "model_id": "91227a76ecd44e3c963fcca0fa1968b6",
       "version_major": 2,
       "version_minor": 0
      },
      "text/plain": [
       "  0%|          | 0/51 [00:00<?, ?it/s]"
      ]
     },
     "metadata": {},
     "output_type": "display_data"
    },
    {
     "name": "stdout",
     "output_type": "stream",
     "text": [
      "Epoch:10    Loss:0.004736868420378396    NumUpdates:51\n"
     ]
    },
    {
     "data": {
      "application/vnd.jupyter.widget-view+json": {
       "model_id": "aa1536b5300c40b8b40c3210d95df85f",
       "version_major": 2,
       "version_minor": 0
      },
      "text/plain": [
       "  0%|          | 0/51 [00:00<?, ?it/s]"
      ]
     },
     "metadata": {},
     "output_type": "display_data"
    },
    {
     "name": "stdout",
     "output_type": "stream",
     "text": [
      "Epoch:11    Loss:0.004573628840529744    NumUpdates:51\n"
     ]
    },
    {
     "data": {
      "application/vnd.jupyter.widget-view+json": {
       "model_id": "8a60050baee049efa3e7cc1f88ac382f",
       "version_major": 2,
       "version_minor": 0
      },
      "text/plain": [
       "  0%|          | 0/51 [00:00<?, ?it/s]"
      ]
     },
     "metadata": {},
     "output_type": "display_data"
    },
    {
     "name": "stdout",
     "output_type": "stream",
     "text": [
      "Epoch:12    Loss:0.004426066336842875    NumUpdates:51\n"
     ]
    },
    {
     "data": {
      "application/vnd.jupyter.widget-view+json": {
       "model_id": "63b22f2b425b4e80be5eec9a06d50936",
       "version_major": 2,
       "version_minor": 0
      },
      "text/plain": [
       "  0%|          | 0/51 [00:00<?, ?it/s]"
      ]
     },
     "metadata": {},
     "output_type": "display_data"
    },
    {
     "name": "stdout",
     "output_type": "stream",
     "text": [
      "Epoch:13    Loss:0.004332820775316042    NumUpdates:51\n"
     ]
    },
    {
     "data": {
      "application/vnd.jupyter.widget-view+json": {
       "model_id": "5d41e2b15d814eae946d70de4cdd2564",
       "version_major": 2,
       "version_minor": 0
      },
      "text/plain": [
       "  0%|          | 0/51 [00:00<?, ?it/s]"
      ]
     },
     "metadata": {},
     "output_type": "display_data"
    },
    {
     "name": "stdout",
     "output_type": "stream",
     "text": [
      "Epoch:14    Loss:0.0042687449421660575    NumUpdates:51\n"
     ]
    },
    {
     "data": {
      "application/vnd.jupyter.widget-view+json": {
       "model_id": "ab99451491214cd2840bb0431925bece",
       "version_major": 2,
       "version_minor": 0
      },
      "text/plain": [
       "  0%|          | 0/51 [00:00<?, ?it/s]"
      ]
     },
     "metadata": {},
     "output_type": "display_data"
    },
    {
     "name": "stdout",
     "output_type": "stream",
     "text": [
      "Epoch:15    Loss:0.0041964485278060916    NumUpdates:51\n"
     ]
    },
    {
     "data": {
      "application/vnd.jupyter.widget-view+json": {
       "model_id": "a99c844bfa964532a9ced909f80fbdf0",
       "version_major": 2,
       "version_minor": 0
      },
      "text/plain": [
       "  0%|          | 0/51 [00:00<?, ?it/s]"
      ]
     },
     "metadata": {},
     "output_type": "display_data"
    },
    {
     "name": "stdout",
     "output_type": "stream",
     "text": [
      "Epoch:16    Loss:0.007326701797508434    NumUpdates:51\n"
     ]
    },
    {
     "data": {
      "application/vnd.jupyter.widget-view+json": {
       "model_id": "6b1475e111fb41c9a6e580328566b32c",
       "version_major": 2,
       "version_minor": 0
      },
      "text/plain": [
       "  0%|          | 0/51 [00:00<?, ?it/s]"
      ]
     },
     "metadata": {},
     "output_type": "display_data"
    },
    {
     "name": "stdout",
     "output_type": "stream",
     "text": [
      "Epoch:17    Loss:0.015292009836354968    NumUpdates:51\n"
     ]
    },
    {
     "data": {
      "application/vnd.jupyter.widget-view+json": {
       "model_id": "03fe196c3e654acc836bc0586bd9db18",
       "version_major": 2,
       "version_minor": 0
      },
      "text/plain": [
       "  0%|          | 0/51 [00:00<?, ?it/s]"
      ]
     },
     "metadata": {},
     "output_type": "display_data"
    },
    {
     "name": "stdout",
     "output_type": "stream",
     "text": [
      "Epoch:18    Loss:0.011282777358942172    NumUpdates:51\n"
     ]
    },
    {
     "data": {
      "application/vnd.jupyter.widget-view+json": {
       "model_id": "c6abe077cad24125af87cd10ecbe6911",
       "version_major": 2,
       "version_minor": 0
      },
      "text/plain": [
       "  0%|          | 0/51 [00:00<?, ?it/s]"
      ]
     },
     "metadata": {},
     "output_type": "display_data"
    },
    {
     "name": "stdout",
     "output_type": "stream",
     "text": [
      "Epoch:19    Loss:0.009184647054758435    NumUpdates:51\n"
     ]
    },
    {
     "data": {
      "application/vnd.jupyter.widget-view+json": {
       "model_id": "d5f740c26cf74c54866c777b626e6c2d",
       "version_major": 2,
       "version_minor": 0
      },
      "text/plain": [
       "  0%|          | 0/51 [00:00<?, ?it/s]"
      ]
     },
     "metadata": {},
     "output_type": "display_data"
    },
    {
     "name": "stdout",
     "output_type": "stream",
     "text": [
      "Epoch:20    Loss:0.007983527210194106    NumUpdates:51\n"
     ]
    },
    {
     "data": {
      "application/vnd.jupyter.widget-view+json": {
       "model_id": "4ab3469cc23a484b91a42a102ed2b386",
       "version_major": 2,
       "version_minor": 0
      },
      "text/plain": [
       "  0%|          | 0/51 [00:00<?, ?it/s]"
      ]
     },
     "metadata": {},
     "output_type": "display_data"
    },
    {
     "name": "stdout",
     "output_type": "stream",
     "text": [
      "Epoch:21    Loss:0.004438203896450645    NumUpdates:51\n",
      "Epoch 00071: reducing learning rate of group 0 to 1.0000e-05.\n"
     ]
    },
    {
     "data": {
      "application/vnd.jupyter.widget-view+json": {
       "model_id": "d4bc128aa7ac4da683a37c925bc565a3",
       "version_major": 2,
       "version_minor": 0
      },
      "text/plain": [
       "  0%|          | 0/51 [00:00<?, ?it/s]"
      ]
     },
     "metadata": {},
     "output_type": "display_data"
    },
    {
     "name": "stdout",
     "output_type": "stream",
     "text": [
      "Epoch:22    Loss:0.00369445002391277    NumUpdates:51\n"
     ]
    },
    {
     "data": {
      "application/vnd.jupyter.widget-view+json": {
       "model_id": "75ac016bab99467f8204da29b1114970",
       "version_major": 2,
       "version_minor": 0
      },
      "text/plain": [
       "  0%|          | 0/51 [00:00<?, ?it/s]"
      ]
     },
     "metadata": {},
     "output_type": "display_data"
    },
    {
     "name": "stdout",
     "output_type": "stream",
     "text": [
      "Epoch:23    Loss:0.0035547763154860222    NumUpdates:51\n"
     ]
    },
    {
     "data": {
      "application/vnd.jupyter.widget-view+json": {
       "model_id": "702ece0f6dab4a11a86daba4ed7117a1",
       "version_major": 2,
       "version_minor": 0
      },
      "text/plain": [
       "  0%|          | 0/51 [00:00<?, ?it/s]"
      ]
     },
     "metadata": {},
     "output_type": "display_data"
    },
    {
     "name": "stdout",
     "output_type": "stream",
     "text": [
      "Epoch:24    Loss:0.003524503120513377    NumUpdates:51\n"
     ]
    },
    {
     "data": {
      "application/vnd.jupyter.widget-view+json": {
       "model_id": "7d67432d54124c51b0186d03f4d1d801",
       "version_major": 2,
       "version_minor": 0
      },
      "text/plain": [
       "  0%|          | 0/51 [00:00<?, ?it/s]"
      ]
     },
     "metadata": {},
     "output_type": "display_data"
    },
    {
     "name": "stdout",
     "output_type": "stream",
     "text": [
      "Epoch:25    Loss:0.00350427527583259    NumUpdates:51\n"
     ]
    },
    {
     "data": {
      "application/vnd.jupyter.widget-view+json": {
       "model_id": "e8726e35c47d4983b29fbb443dd5e0cc",
       "version_major": 2,
       "version_minor": 0
      },
      "text/plain": [
       "  0%|          | 0/51 [00:00<?, ?it/s]"
      ]
     },
     "metadata": {},
     "output_type": "display_data"
    },
    {
     "name": "stdout",
     "output_type": "stream",
     "text": [
      "Epoch:26    Loss:0.003489594046008207    NumUpdates:51\n"
     ]
    },
    {
     "data": {
      "application/vnd.jupyter.widget-view+json": {
       "model_id": "b6c24ae069f841e3a135eab67d9e67a7",
       "version_major": 2,
       "version_minor": 0
      },
      "text/plain": [
       "  0%|          | 0/51 [00:00<?, ?it/s]"
      ]
     },
     "metadata": {},
     "output_type": "display_data"
    },
    {
     "name": "stdout",
     "output_type": "stream",
     "text": [
      "Epoch:27    Loss:0.0034780850743546207    NumUpdates:51\n"
     ]
    },
    {
     "data": {
      "application/vnd.jupyter.widget-view+json": {
       "model_id": "9a93196e04dd41f2ba2913fef8a368da",
       "version_major": 2,
       "version_minor": 0
      },
      "text/plain": [
       "  0%|          | 0/51 [00:00<?, ?it/s]"
      ]
     },
     "metadata": {},
     "output_type": "display_data"
    },
    {
     "name": "stdout",
     "output_type": "stream",
     "text": [
      "Epoch:28    Loss:0.0034689589942275894    NumUpdates:51\n"
     ]
    },
    {
     "data": {
      "application/vnd.jupyter.widget-view+json": {
       "model_id": "31adf00d6a134fe6b5c1859474c3b2f5",
       "version_major": 2,
       "version_minor": 0
      },
      "text/plain": [
       "  0%|          | 0/51 [00:00<?, ?it/s]"
      ]
     },
     "metadata": {},
     "output_type": "display_data"
    },
    {
     "name": "stdout",
     "output_type": "stream",
     "text": [
      "Epoch:29    Loss:0.0034618574130695825    NumUpdates:51\n"
     ]
    },
    {
     "data": {
      "application/vnd.jupyter.widget-view+json": {
       "model_id": "1298bc124e774baebe303c5412167c1e",
       "version_major": 2,
       "version_minor": 0
      },
      "text/plain": [
       "  0%|          | 0/51 [00:00<?, ?it/s]"
      ]
     },
     "metadata": {},
     "output_type": "display_data"
    },
    {
     "name": "stdout",
     "output_type": "stream",
     "text": [
      "Epoch:30    Loss:0.0034558938761406087    NumUpdates:51\n"
     ]
    },
    {
     "data": {
      "application/vnd.jupyter.widget-view+json": {
       "model_id": "648d76464d2141b1b9f601f2fbf93ce8",
       "version_major": 2,
       "version_minor": 0
      },
      "text/plain": [
       "  0%|          | 0/51 [00:00<?, ?it/s]"
      ]
     },
     "metadata": {},
     "output_type": "display_data"
    },
    {
     "name": "stdout",
     "output_type": "stream",
     "text": [
      "Epoch:31    Loss:0.0034512277080805277    NumUpdates:51\n"
     ]
    },
    {
     "data": {
      "application/vnd.jupyter.widget-view+json": {
       "model_id": "2e6e6a91109b4022890b932910a9ab09",
       "version_major": 2,
       "version_minor": 0
      },
      "text/plain": [
       "  0%|          | 0/51 [00:00<?, ?it/s]"
      ]
     },
     "metadata": {},
     "output_type": "display_data"
    },
    {
     "name": "stdout",
     "output_type": "stream",
     "text": [
      "Epoch:32    Loss:0.0034472677975381704    NumUpdates:51\n"
     ]
    },
    {
     "data": {
      "application/vnd.jupyter.widget-view+json": {
       "model_id": "7f17466882344f4eb0ed02e0224fdc8c",
       "version_major": 2,
       "version_minor": 0
      },
      "text/plain": [
       "  0%|          | 0/51 [00:00<?, ?it/s]"
      ]
     },
     "metadata": {},
     "output_type": "display_data"
    },
    {
     "name": "stdout",
     "output_type": "stream",
     "text": [
      "Epoch:33    Loss:0.0034441518798178318    NumUpdates:51\n"
     ]
    },
    {
     "data": {
      "application/vnd.jupyter.widget-view+json": {
       "model_id": "d7d540f574854d24b63b83c3c2dfede3",
       "version_major": 2,
       "version_minor": 0
      },
      "text/plain": [
       "  0%|          | 0/51 [00:00<?, ?it/s]"
      ]
     },
     "metadata": {},
     "output_type": "display_data"
    },
    {
     "name": "stdout",
     "output_type": "stream",
     "text": [
      "Epoch:34    Loss:0.003441894139327547    NumUpdates:51\n"
     ]
    },
    {
     "data": {
      "application/vnd.jupyter.widget-view+json": {
       "model_id": "89044ae5c9784d5185176f0be213c639",
       "version_major": 2,
       "version_minor": 0
      },
      "text/plain": [
       "  0%|          | 0/51 [00:00<?, ?it/s]"
      ]
     },
     "metadata": {},
     "output_type": "display_data"
    },
    {
     "name": "stdout",
     "output_type": "stream",
     "text": [
      "Epoch:35    Loss:0.0034403071359859084    NumUpdates:51\n"
     ]
    },
    {
     "data": {
      "application/vnd.jupyter.widget-view+json": {
       "model_id": "7a2b1249aec5477f926ecce3a07d448e",
       "version_major": 2,
       "version_minor": 0
      },
      "text/plain": [
       "  0%|          | 0/51 [00:00<?, ?it/s]"
      ]
     },
     "metadata": {},
     "output_type": "display_data"
    },
    {
     "name": "stdout",
     "output_type": "stream",
     "text": [
      "Epoch:36    Loss:0.003439385268161548    NumUpdates:51\n"
     ]
    },
    {
     "data": {
      "application/vnd.jupyter.widget-view+json": {
       "model_id": "260908371225408092c2de3eeff2689e",
       "version_major": 2,
       "version_minor": 0
      },
      "text/plain": [
       "  0%|          | 0/51 [00:00<?, ?it/s]"
      ]
     },
     "metadata": {},
     "output_type": "display_data"
    },
    {
     "name": "stdout",
     "output_type": "stream",
     "text": [
      "Epoch:37    Loss:0.003439136922322944    NumUpdates:51\n"
     ]
    },
    {
     "data": {
      "application/vnd.jupyter.widget-view+json": {
       "model_id": "424d7321554f4d8c9a0a9d98c3ffc45b",
       "version_major": 2,
       "version_minor": 0
      },
      "text/plain": [
       "  0%|          | 0/51 [00:00<?, ?it/s]"
      ]
     },
     "metadata": {},
     "output_type": "display_data"
    },
    {
     "name": "stdout",
     "output_type": "stream",
     "text": [
      "Epoch:38    Loss:0.003439122934223098    NumUpdates:51\n"
     ]
    },
    {
     "data": {
      "application/vnd.jupyter.widget-view+json": {
       "model_id": "e0136849c7174d588c2c8af3d2d3a511",
       "version_major": 2,
       "version_minor": 0
      },
      "text/plain": [
       "  0%|          | 0/51 [00:00<?, ?it/s]"
      ]
     },
     "metadata": {},
     "output_type": "display_data"
    },
    {
     "name": "stdout",
     "output_type": "stream",
     "text": [
      "Epoch:39    Loss:0.003439688712687177    NumUpdates:51\n"
     ]
    },
    {
     "data": {
      "application/vnd.jupyter.widget-view+json": {
       "model_id": "b8f99d3ecb99453abfa634a5c4bd71aa",
       "version_major": 2,
       "version_minor": 0
      },
      "text/plain": [
       "  0%|          | 0/51 [00:00<?, ?it/s]"
      ]
     },
     "metadata": {},
     "output_type": "display_data"
    },
    {
     "name": "stdout",
     "output_type": "stream",
     "text": [
      "Epoch:40    Loss:0.003440593821270501    NumUpdates:51\n"
     ]
    },
    {
     "data": {
      "application/vnd.jupyter.widget-view+json": {
       "model_id": "b24a4069601e4cbcb6f0fae17eae68bc",
       "version_major": 2,
       "version_minor": 0
      },
      "text/plain": [
       "  0%|          | 0/51 [00:00<?, ?it/s]"
      ]
     },
     "metadata": {},
     "output_type": "display_data"
    },
    {
     "name": "stdout",
     "output_type": "stream",
     "text": [
      "Epoch:41    Loss:0.003441570541255322    NumUpdates:51\n"
     ]
    },
    {
     "data": {
      "application/vnd.jupyter.widget-view+json": {
       "model_id": "ed3a60cd20fc4d46bf486ce94bb57583",
       "version_major": 2,
       "version_minor": 0
      },
      "text/plain": [
       "  0%|          | 0/51 [00:00<?, ?it/s]"
      ]
     },
     "metadata": {},
     "output_type": "display_data"
    },
    {
     "name": "stdout",
     "output_type": "stream",
     "text": [
      "Epoch:42    Loss:0.003442715832908802    NumUpdates:51\n",
      "Epoch 00092: reducing learning rate of group 0 to 1.0000e-06.\n"
     ]
    },
    {
     "data": {
      "application/vnd.jupyter.widget-view+json": {
       "model_id": "0ddcb88feba44a8e951861cfb1198bd5",
       "version_major": 2,
       "version_minor": 0
      },
      "text/plain": [
       "  0%|          | 0/51 [00:00<?, ?it/s]"
      ]
     },
     "metadata": {},
     "output_type": "display_data"
    },
    {
     "name": "stdout",
     "output_type": "stream",
     "text": [
      "Epoch:43    Loss:0.003422525026561583    NumUpdates:51\n"
     ]
    },
    {
     "data": {
      "application/vnd.jupyter.widget-view+json": {
       "model_id": "0d016cdcc03c4ca581707cb9ddafaeb1",
       "version_major": 2,
       "version_minor": 0
      },
      "text/plain": [
       "  0%|          | 0/51 [00:00<?, ?it/s]"
      ]
     },
     "metadata": {},
     "output_type": "display_data"
    },
    {
     "name": "stdout",
     "output_type": "stream",
     "text": [
      "Epoch:44    Loss:0.0034227754108096453    NumUpdates:51\n"
     ]
    },
    {
     "data": {
      "application/vnd.jupyter.widget-view+json": {
       "model_id": "ccaf53f1374a4bbb9b5f2474382d50d3",
       "version_major": 2,
       "version_minor": 0
      },
      "text/plain": [
       "  0%|          | 0/51 [00:00<?, ?it/s]"
      ]
     },
     "metadata": {},
     "output_type": "display_data"
    },
    {
     "name": "stdout",
     "output_type": "stream",
     "text": [
      "Epoch:45    Loss:0.003422983584231606    NumUpdates:51\n"
     ]
    },
    {
     "data": {
      "application/vnd.jupyter.widget-view+json": {
       "model_id": "69382a283a2444c2a86d88e981dadcb4",
       "version_major": 2,
       "version_minor": 0
      },
      "text/plain": [
       "  0%|          | 0/51 [00:00<?, ?it/s]"
      ]
     },
     "metadata": {},
     "output_type": "display_data"
    },
    {
     "name": "stdout",
     "output_type": "stream",
     "text": [
      "Epoch:46    Loss:0.0034231402404496774    NumUpdates:51\n"
     ]
    },
    {
     "data": {
      "application/vnd.jupyter.widget-view+json": {
       "model_id": "7b784d4fb78e4508a5ad47da35edd347",
       "version_major": 2,
       "version_minor": 0
      },
      "text/plain": [
       "  0%|          | 0/51 [00:00<?, ?it/s]"
      ]
     },
     "metadata": {},
     "output_type": "display_data"
    },
    {
     "name": "stdout",
     "output_type": "stream",
     "text": [
      "Epoch:47    Loss:0.003423359473327211    NumUpdates:51\n"
     ]
    },
    {
     "data": {
      "application/vnd.jupyter.widget-view+json": {
       "model_id": "d9cc3589ff9d49d6876c51c42d91f5ce",
       "version_major": 2,
       "version_minor": 0
      },
      "text/plain": [
       "  0%|          | 0/51 [00:00<?, ?it/s]"
      ]
     },
     "metadata": {},
     "output_type": "display_data"
    },
    {
     "name": "stdout",
     "output_type": "stream",
     "text": [
      "Epoch:48    Loss:0.0034235916739585354    NumUpdates:51\n"
     ]
    },
    {
     "data": {
      "application/vnd.jupyter.widget-view+json": {
       "model_id": "4dc087a8bbbd444687b5b8feeda395b5",
       "version_major": 2,
       "version_minor": 0
      },
      "text/plain": [
       "  0%|          | 0/51 [00:00<?, ?it/s]"
      ]
     },
     "metadata": {},
     "output_type": "display_data"
    },
    {
     "name": "stdout",
     "output_type": "stream",
     "text": [
      "Epoch:49    Loss:0.0034238467878643787    NumUpdates:51\n",
      "Epoch 00099: reducing learning rate of group 0 to 1.0000e-07.\n"
     ]
    },
    {
     "data": {
      "application/vnd.jupyter.widget-view+json": {
       "model_id": "17af4768f798464299da42a20c9e1c47",
       "version_major": 2,
       "version_minor": 0
      },
      "text/plain": [
       "  0%|          | 0/51 [00:00<?, ?it/s]"
      ]
     },
     "metadata": {},
     "output_type": "display_data"
    },
    {
     "name": "stdout",
     "output_type": "stream",
     "text": [
      "Epoch:50    Loss:0.003421670857670845    NumUpdates:51\n"
     ]
    }
   ],
   "source": [
    "epoch_losses = []\n",
    "iteration_losses = []\n",
    "num_updates_epochs = []\n",
    "\n",
    "for epoch in tqdm(range(1, num_epochs+1)):\n",
    "    # epoch_loss_list : 에폭당 손실 함수의 값들을 저장하는 리스트\n",
    "    epoch_loss_list = [] \n",
    "    # num_updates_epoch : 에폭당 업데이트 횟수\n",
    "    num_updates_epoch = 0\n",
    "\n",
    "    for image_batch, text_batch in tqdm(train_loader, leave=False):\n",
    "        # 이 for문은 배치 사이즈만큼 데이터를 불러오는 for문\n",
    "        # optimizer.zero_grad() : 옵티마이저의 그래디언트를 0으로 초기화\n",
    "        optimizer.zero_grad()\n",
    "        # text_batch_logits : 모델의 출력값        \n",
    "        text_batch_logits = crnn(image_batch.to(device))\n",
    "        # compute_loss 함수를 통해 손실 함수를 계산\n",
    "        loss = compute_loss(text_batch, text_batch_logits)\n",
    "        # loss.item() : 손실 함수의 값\n",
    "        iteration_loss = loss.item()\n",
    "\n",
    "        if np.isnan(iteration_loss) or np.isinf(iteration_loss):\n",
    "            # iteration_loss가 nan이거나 inf이면 \n",
    "            continue\n",
    "          \n",
    "        # 에폭당 업데이트 증가\n",
    "        num_updates_epoch += 1\n",
    "        iteration_losses.append(iteration_loss)\n",
    "        \n",
    "        epoch_loss_list.append(iteration_loss)\n",
    "        # backward() : 손실 함수의 값에 대한 그래디언트를 계산\n",
    "        loss.backward()\n",
    "        # clip_grad_norm_ : 그래디언트 폭주를 방지하기 위해 그래디언트를 잘라냄\n",
    "        nn.utils.clip_grad_norm_(crnn.parameters(), clip_norm)\n",
    "        # optimizer.step() : 옵티마이저를 통해 모델의 가중치를 업데이트\n",
    "        optimizer.step()\n",
    "    # 에폭당 손실 함수의 값들의 평균을 계산\n",
    "    epoch_loss = np.mean(epoch_loss_list)\n",
    "    print(\"Epoch:{}    Loss:{}    NumUpdates:{}\".format(epoch, epoch_loss, num_updates_epoch))\n",
    "    # 에폭당 손실 함수의 값들을 저장\n",
    "    epoch_losses.append(epoch_loss)\n",
    "    # 에폭당 업데이트 횟수를 저장\n",
    "    num_updates_epochs.append(num_updates_epoch)\n",
    "    # ls_scheduler.step : 스케줄러를 통해 학습률을 조절\n",
    "    ls_scheduler.step(epoch_loss)"
   ]
  },
  {
   "cell_type": "code",
   "execution_count": 110,
   "metadata": {},
   "outputs": [
    {
     "data": {
      "image/png": "[encoded data removed]",
      "text/plain": [
       "<Figure size 1000x500 with 2 Axes>"
      ]
     },
     "metadata": {},
     "output_type": "display_data"
    }
   ],
   "source": [
    "# 통계 시각화\n",
    "\n",
    "fig, (ax1, ax2) = plt.subplots(1, 2, figsize=(10, 5))\n",
    "\n",
    "ax1.plot(epoch_losses)\n",
    "ax1.set_xlabel(\"Epochs\")\n",
    "ax1.set_ylabel(\"Loss\")\n",
    "\n",
    "ax2.plot(iteration_losses)\n",
    "ax2.set_xlabel(\"Iterations\")\n",
    "ax2.set_ylabel(\"Loss\")\n",
    "\n",
    "plt.show()"
   ]
  },
  {
   "cell_type": "code",
   "execution_count": 111,
   "metadata": {},
   "outputs": [],
   "source": [
    "def decode_predictions(text_batch_logits):\n",
    "    # decode_predictions 함수는 모델의 출력값을 디코딩하는 함수\n",
    "    # 디코딩이란, 모델의 출력값을 실제값으로 변환하는 것\n",
    "\n",
    "    # F.softmax(text_batch_logits, 2) : 모델의 출력값을 확률로 변환\n",
    "    text_batch_tokens = F.log_softmax(text_batch_logits, 2).argmax(2) # [T, batch_size]\n",
    "    # text_batch_tokens : 모델의 출력값을 확률로 변환한 것을 가장 큰 값의 인덱스로 변환\n",
    "    text_batch_tokens = text_batch_tokens.numpy().T # [batch_size, T]\n",
    "\n",
    "    text_batch_tokens_new = []\n",
    "    for text_tokens in text_batch_tokens:\n",
    "        text = [idx2char[idx] for idx in text_tokens]\n",
    "        text = \"\".join(text)\n",
    "        text_batch_tokens_new.append(text)\n",
    "\n",
    "    return text_batch_tokens_new"
   ]
  },
  {
   "cell_type": "code",
   "execution_count": 112,
   "metadata": {},
   "outputs": [
    {
     "data": {
      "application/vnd.jupyter.widget-view+json": {
       "model_id": "a632fb609b1e410396f7af96aa584704",
       "version_major": 2,
       "version_minor": 0
      },
      "text/plain": [
       "  0%|          | 0/51 [00:00<?, ?it/s]"
      ]
     },
     "metadata": {},
     "output_type": "display_data"
    }
   ],
   "source": [
    "results_train = pd.DataFrame(columns=['actual', 'prediction'])\n",
    "train_loader = DataLoader(trainset, batch_size=16, num_workers=0, shuffle=False)\n",
    "with torch.no_grad():\n",
    "    for image_batch, text_batch in tqdm(train_loader, leave=True):\n",
    "        text_batch_logits = crnn(image_batch.to(device)) # [T, batch_size, num_classes==num_features]\n",
    "        text_batch_pred = decode_predictions(text_batch_logits.cpu())\n",
    "        #print(text_batch, text_batch_pred)\n",
    "        df = pd.DataFrame(columns=['actual', 'prediction'])\n",
    "        df['actual'] = text_batch\n",
    "        df['prediction'] = text_batch_pred\n",
    "        results_train = pd.concat([results_train, df])\n",
    "results_train = results_train.reset_index(drop=True)"
   ]
  },
  {
   "cell_type": "code",
   "execution_count": 113,
   "metadata": {},
   "outputs": [
    {
     "data": {
      "application/vnd.jupyter.widget-view+json": {
       "model_id": "d9eb82748b304ac492eb1fe49c4bc921",
       "version_major": 2,
       "version_minor": 0
      },
      "text/plain": [
       "  0%|          | 0/17 [00:00<?, ?it/s]"
      ]
     },
     "metadata": {},
     "output_type": "display_data"
    }
   ],
   "source": [
    "results_test = pd.DataFrame(columns=['actual', 'prediction'])\n",
    "test_loader = DataLoader(testset, batch_size=16, num_workers=0, shuffle=False)\n",
    "with torch.no_grad():\n",
    "    for image_batch, text_batch in tqdm(test_loader, leave=True):\n",
    "        text_batch_logits = crnn(image_batch.to(device)) # [T, batch_size, num_classes==num_features]\n",
    "        text_batch_pred = decode_predictions(text_batch_logits.cpu())\n",
    "        #print(text_batch, text_batch_pred)\n",
    "        df = pd.DataFrame(columns=['actual', 'prediction'])\n",
    "        df['actual'] = text_batch\n",
    "        df['prediction'] = text_batch_pred\n",
    "        results_test = pd.concat([results_test, df])\n",
    "results_test = results_test.reset_index(drop=True)"
   ]
  },
  {
   "cell_type": "code",
   "execution_count": 114,
   "metadata": {},
   "outputs": [
    {
     "name": "stdout",
     "output_type": "stream",
     "text": [
      "(802, 2)\n"
     ]
    },
    {
     "data": {
      "text/html": [
       "<div>\n",
       "<style scoped>\n",
       "    .dataframe tbody tr th:only-of-type {\n",
       "        vertical-align: middle;\n",
       "    }\n",
       "\n",
       "    .dataframe tbody tr th {\n",
       "        vertical-align: top;\n",
       "    }\n",
       "\n",
       "    .dataframe thead th {\n",
       "        text-align: right;\n",
       "    }\n",
       "</style>\n",
       "<table border=\"1\" class=\"dataframe\">\n",
       "  <thead>\n",
       "    <tr style=\"text-align: right;\">\n",
       "      <th></th>\n",
       "      <th>actual</th>\n",
       "      <th>prediction</th>\n",
       "    </tr>\n",
       "  </thead>\n",
       "  <tbody>\n",
       "    <tr>\n",
       "      <th>0</th>\n",
       "      <td>6n6gg</td>\n",
       "      <td>6n----6g-g</td>\n",
       "    </tr>\n",
       "    <tr>\n",
       "      <th>1</th>\n",
       "      <td>ddcne</td>\n",
       "      <td>dd---dcn-e</td>\n",
       "    </tr>\n",
       "    <tr>\n",
       "      <th>2</th>\n",
       "      <td>mgw3n</td>\n",
       "      <td>mg----w3-n</td>\n",
       "    </tr>\n",
       "    <tr>\n",
       "      <th>3</th>\n",
       "      <td>4ycex</td>\n",
       "      <td>4y----ce-x</td>\n",
       "    </tr>\n",
       "    <tr>\n",
       "      <th>4</th>\n",
       "      <td>x6b5m</td>\n",
       "      <td>x6----b5-m</td>\n",
       "    </tr>\n",
       "  </tbody>\n",
       "</table>\n",
       "</div>"
      ],
      "text/plain": [
       "  actual  prediction\n",
       "0  6n6gg  6n----6g-g\n",
       "1  ddcne  dd---dcn-e\n",
       "2  mgw3n  mg----w3-n\n",
       "3  4ycex  4y----ce-x\n",
       "4  x6b5m  x6----b5-m"
      ]
     },
     "execution_count": 114,
     "metadata": {},
     "output_type": "execute_result"
    }
   ],
   "source": [
    "print(results_train.shape)\n",
    "results_train.head()"
   ]
  },
  {
   "cell_type": "code",
   "execution_count": 115,
   "metadata": {},
   "outputs": [
    {
     "name": "stdout",
     "output_type": "stream",
     "text": [
      "(268, 2)\n"
     ]
    },
    {
     "data": {
      "text/html": [
       "<div>\n",
       "<style scoped>\n",
       "    .dataframe tbody tr th:only-of-type {\n",
       "        vertical-align: middle;\n",
       "    }\n",
       "\n",
       "    .dataframe tbody tr th {\n",
       "        vertical-align: top;\n",
       "    }\n",
       "\n",
       "    .dataframe thead th {\n",
       "        text-align: right;\n",
       "    }\n",
       "</style>\n",
       "<table border=\"1\" class=\"dataframe\">\n",
       "  <thead>\n",
       "    <tr style=\"text-align: right;\">\n",
       "      <th></th>\n",
       "      <th>actual</th>\n",
       "      <th>prediction</th>\n",
       "    </tr>\n",
       "  </thead>\n",
       "  <tbody>\n",
       "    <tr>\n",
       "      <th>0</th>\n",
       "      <td>w4cdc</td>\n",
       "      <td>w4----cd-c</td>\n",
       "    </tr>\n",
       "    <tr>\n",
       "      <th>1</th>\n",
       "      <td>n4xx5</td>\n",
       "      <td>n4----xx-5</td>\n",
       "    </tr>\n",
       "    <tr>\n",
       "      <th>2</th>\n",
       "      <td>e76n4</td>\n",
       "      <td>e7----6n-4</td>\n",
       "    </tr>\n",
       "    <tr>\n",
       "      <th>3</th>\n",
       "      <td>ddcdd</td>\n",
       "      <td>dd--d-cd-d</td>\n",
       "    </tr>\n",
       "    <tr>\n",
       "      <th>4</th>\n",
       "      <td>bbymy</td>\n",
       "      <td>bb----ym-y</td>\n",
       "    </tr>\n",
       "  </tbody>\n",
       "</table>\n",
       "</div>"
      ],
      "text/plain": [
       "  actual  prediction\n",
       "0  w4cdc  w4----cd-c\n",
       "1  n4xx5  n4----xx-5\n",
       "2  e76n4  e7----6n-4\n",
       "3  ddcdd  dd--d-cd-d\n",
       "4  bbymy  bb----ym-y"
      ]
     },
     "execution_count": 115,
     "metadata": {},
     "output_type": "execute_result"
    }
   ],
   "source": [
    "print(results_test.shape)\n",
    "results_test.head()"
   ]
  },
  {
   "cell_type": "code",
   "execution_count": 120,
   "metadata": {},
   "outputs": [],
   "source": [
    "def remove_duplicates(text):\n",
    "    # remove_duplicates 함수는 중복된 문자를 제거하는 함수\n",
    "    if len(text) > 1:\n",
    "        letters = [text[0]] + [letter for idx, letter in enumerate(text[1:], start=1) if text[idx] != text[idx-1]]\n",
    "    elif len(text) == 1:\n",
    "        letters = [text[0]]\n",
    "    else:\n",
    "        return \"\"\n",
    "    return \"\".join(letters)\n",
    "\n",
    "def correct_prediction(word):\n",
    "    # correct_prediction 함수는 예측값을 수정하는 함수\n",
    "    parts = word.split(\"-\")\n",
    "    # parts = [remove_duplicates(part) for part in parts]\n",
    "    corrected_word = \"\".join(parts)\n",
    "    return corrected_word\n"
   ]
  },
  {
   "cell_type": "code",
   "execution_count": 121,
   "metadata": {},
   "outputs": [
    {
     "data": {
      "text/html": [
       "<div>\n",
       "<style scoped>\n",
       "    .dataframe tbody tr th:only-of-type {\n",
       "        vertical-align: middle;\n",
       "    }\n",
       "\n",
       "    .dataframe tbody tr th {\n",
       "        vertical-align: top;\n",
       "    }\n",
       "\n",
       "    .dataframe thead th {\n",
       "        text-align: right;\n",
       "    }\n",
       "</style>\n",
       "<table border=\"1\" class=\"dataframe\">\n",
       "  <thead>\n",
       "    <tr style=\"text-align: right;\">\n",
       "      <th></th>\n",
       "      <th>actual</th>\n",
       "      <th>prediction</th>\n",
       "      <th>prediction_corrected</th>\n",
       "    </tr>\n",
       "  </thead>\n",
       "  <tbody>\n",
       "    <tr>\n",
       "      <th>0</th>\n",
       "      <td>6n6gg</td>\n",
       "      <td>6n----6g-g</td>\n",
       "      <td>6n6gg</td>\n",
       "    </tr>\n",
       "    <tr>\n",
       "      <th>1</th>\n",
       "      <td>ddcne</td>\n",
       "      <td>dd---dcn-e</td>\n",
       "      <td>dddcne</td>\n",
       "    </tr>\n",
       "    <tr>\n",
       "      <th>2</th>\n",
       "      <td>mgw3n</td>\n",
       "      <td>mg----w3-n</td>\n",
       "      <td>mgw3n</td>\n",
       "    </tr>\n",
       "    <tr>\n",
       "      <th>3</th>\n",
       "      <td>4ycex</td>\n",
       "      <td>4y----ce-x</td>\n",
       "      <td>4ycex</td>\n",
       "    </tr>\n",
       "    <tr>\n",
       "      <th>4</th>\n",
       "      <td>x6b5m</td>\n",
       "      <td>x6----b5-m</td>\n",
       "      <td>x6b5m</td>\n",
       "    </tr>\n",
       "  </tbody>\n",
       "</table>\n",
       "</div>"
      ],
      "text/plain": [
       "  actual  prediction prediction_corrected\n",
       "0  6n6gg  6n----6g-g                6n6gg\n",
       "1  ddcne  dd---dcn-e               dddcne\n",
       "2  mgw3n  mg----w3-n                mgw3n\n",
       "3  4ycex  4y----ce-x                4ycex\n",
       "4  x6b5m  x6----b5-m                x6b5m"
      ]
     },
     "execution_count": 121,
     "metadata": {},
     "output_type": "execute_result"
    }
   ],
   "source": [
    "results_train['prediction_corrected'] = results_train['prediction'].apply(correct_prediction)\n",
    "results_train.head()"
   ]
  },
  {
   "cell_type": "code",
   "execution_count": 122,
   "metadata": {},
   "outputs": [
    {
     "data": {
      "text/html": [
       "<div>\n",
       "<style scoped>\n",
       "    .dataframe tbody tr th:only-of-type {\n",
       "        vertical-align: middle;\n",
       "    }\n",
       "\n",
       "    .dataframe tbody tr th {\n",
       "        vertical-align: top;\n",
       "    }\n",
       "\n",
       "    .dataframe thead th {\n",
       "        text-align: right;\n",
       "    }\n",
       "</style>\n",
       "<table border=\"1\" class=\"dataframe\">\n",
       "  <thead>\n",
       "    <tr style=\"text-align: right;\">\n",
       "      <th></th>\n",
       "      <th>actual</th>\n",
       "      <th>prediction</th>\n",
       "      <th>prediction_corrected</th>\n",
       "    </tr>\n",
       "  </thead>\n",
       "  <tbody>\n",
       "    <tr>\n",
       "      <th>0</th>\n",
       "      <td>w4cdc</td>\n",
       "      <td>w4----cd-c</td>\n",
       "      <td>w4cdc</td>\n",
       "    </tr>\n",
       "    <tr>\n",
       "      <th>1</th>\n",
       "      <td>n4xx5</td>\n",
       "      <td>n4----xx-5</td>\n",
       "      <td>n4xx5</td>\n",
       "    </tr>\n",
       "    <tr>\n",
       "      <th>2</th>\n",
       "      <td>e76n4</td>\n",
       "      <td>e7----6n-4</td>\n",
       "      <td>e76n4</td>\n",
       "    </tr>\n",
       "    <tr>\n",
       "      <th>3</th>\n",
       "      <td>ddcdd</td>\n",
       "      <td>dd--d-cd-d</td>\n",
       "      <td>dddcdd</td>\n",
       "    </tr>\n",
       "    <tr>\n",
       "      <th>4</th>\n",
       "      <td>bbymy</td>\n",
       "      <td>bb----ym-y</td>\n",
       "      <td>bbymy</td>\n",
       "    </tr>\n",
       "  </tbody>\n",
       "</table>\n",
       "</div>"
      ],
      "text/plain": [
       "  actual  prediction prediction_corrected\n",
       "0  w4cdc  w4----cd-c                w4cdc\n",
       "1  n4xx5  n4----xx-5                n4xx5\n",
       "2  e76n4  e7----6n-4                e76n4\n",
       "3  ddcdd  dd--d-cd-d               dddcdd\n",
       "4  bbymy  bb----ym-y                bbymy"
      ]
     },
     "execution_count": 122,
     "metadata": {},
     "output_type": "execute_result"
    }
   ],
   "source": [
    "results_test['prediction_corrected'] = results_test['prediction'].apply(correct_prediction)\n",
    "results_test.head()"
   ]
  },
  {
   "cell_type": "code",
   "execution_count": 123,
   "metadata": {},
   "outputs": [
    {
     "data": {
      "text/html": [
       "<div>\n",
       "<style scoped>\n",
       "    .dataframe tbody tr th:only-of-type {\n",
       "        vertical-align: middle;\n",
       "    }\n",
       "\n",
       "    .dataframe tbody tr th {\n",
       "        vertical-align: top;\n",
       "    }\n",
       "\n",
       "    .dataframe thead th {\n",
       "        text-align: right;\n",
       "    }\n",
       "</style>\n",
       "<table border=\"1\" class=\"dataframe\">\n",
       "  <thead>\n",
       "    <tr style=\"text-align: right;\">\n",
       "      <th></th>\n",
       "      <th>actual</th>\n",
       "      <th>prediction</th>\n",
       "      <th>prediction_corrected</th>\n",
       "    </tr>\n",
       "  </thead>\n",
       "  <tbody>\n",
       "    <tr>\n",
       "      <th>3</th>\n",
       "      <td>ddcdd</td>\n",
       "      <td>dd--d-cd-d</td>\n",
       "      <td>dddcdd</td>\n",
       "    </tr>\n",
       "    <tr>\n",
       "      <th>14</th>\n",
       "      <td>emwpn</td>\n",
       "      <td>em-----wpp</td>\n",
       "      <td>emwpp</td>\n",
       "    </tr>\n",
       "    <tr>\n",
       "      <th>16</th>\n",
       "      <td>x76mn</td>\n",
       "      <td>x7----6mmn</td>\n",
       "      <td>x76mmn</td>\n",
       "    </tr>\n",
       "    <tr>\n",
       "      <th>30</th>\n",
       "      <td>m3wfw</td>\n",
       "      <td>m33----wfw</td>\n",
       "      <td>m33wfw</td>\n",
       "    </tr>\n",
       "    <tr>\n",
       "      <th>34</th>\n",
       "      <td>cwmny</td>\n",
       "      <td>cw-----m-n</td>\n",
       "      <td>cwmn</td>\n",
       "    </tr>\n",
       "    <tr>\n",
       "      <th>36</th>\n",
       "      <td>nmy2x</td>\n",
       "      <td>nm----yy2x</td>\n",
       "      <td>nmyy2x</td>\n",
       "    </tr>\n",
       "    <tr>\n",
       "      <th>42</th>\n",
       "      <td>d4ppy</td>\n",
       "      <td>d4---4pp-y</td>\n",
       "      <td>d44ppy</td>\n",
       "    </tr>\n",
       "    <tr>\n",
       "      <th>44</th>\n",
       "      <td>7bwm2</td>\n",
       "      <td>7b----wmm2</td>\n",
       "      <td>7bwmm2</td>\n",
       "    </tr>\n",
       "    <tr>\n",
       "      <th>47</th>\n",
       "      <td>85622</td>\n",
       "      <td>85--5-62-2</td>\n",
       "      <td>855622</td>\n",
       "    </tr>\n",
       "    <tr>\n",
       "      <th>48</th>\n",
       "      <td>mp7wp</td>\n",
       "      <td>mg-----7w-</td>\n",
       "      <td>mg7w</td>\n",
       "    </tr>\n",
       "    <tr>\n",
       "      <th>52</th>\n",
       "      <td>8pfxx</td>\n",
       "      <td>8p----fxxx</td>\n",
       "      <td>8pfxxx</td>\n",
       "    </tr>\n",
       "    <tr>\n",
       "      <th>57</th>\n",
       "      <td>7w67m</td>\n",
       "      <td>7w----67mm</td>\n",
       "      <td>7w67mm</td>\n",
       "    </tr>\n",
       "    <tr>\n",
       "      <th>64</th>\n",
       "      <td>m2576</td>\n",
       "      <td>m2----5576</td>\n",
       "      <td>m25576</td>\n",
       "    </tr>\n",
       "    <tr>\n",
       "      <th>69</th>\n",
       "      <td>6m5eg</td>\n",
       "      <td>6m----75eg</td>\n",
       "      <td>6m75eg</td>\n",
       "    </tr>\n",
       "    <tr>\n",
       "      <th>70</th>\n",
       "      <td>wwmn6</td>\n",
       "      <td>ww----mmn6</td>\n",
       "      <td>wwmmn6</td>\n",
       "    </tr>\n",
       "    <tr>\n",
       "      <th>72</th>\n",
       "      <td>c3n8x</td>\n",
       "      <td>c3----n8xx</td>\n",
       "      <td>c3n8xx</td>\n",
       "    </tr>\n",
       "    <tr>\n",
       "      <th>73</th>\n",
       "      <td>ddnpf</td>\n",
       "      <td>dd---dnp-f</td>\n",
       "      <td>dddnpf</td>\n",
       "    </tr>\n",
       "    <tr>\n",
       "      <th>83</th>\n",
       "      <td>n3ffn</td>\n",
       "      <td>n3----ff-f</td>\n",
       "      <td>n3fff</td>\n",
       "    </tr>\n",
       "    <tr>\n",
       "      <th>91</th>\n",
       "      <td>m75bf</td>\n",
       "      <td>m77---5b-f</td>\n",
       "      <td>m775bf</td>\n",
       "    </tr>\n",
       "    <tr>\n",
       "      <th>95</th>\n",
       "      <td>3w2bw</td>\n",
       "      <td>3w----22bw</td>\n",
       "      <td>3w22bw</td>\n",
       "    </tr>\n",
       "    <tr>\n",
       "      <th>99</th>\n",
       "      <td>5x7x5</td>\n",
       "      <td>6x----7x-5</td>\n",
       "      <td>6x7x5</td>\n",
       "    </tr>\n",
       "    <tr>\n",
       "      <th>102</th>\n",
       "      <td>7dwx4</td>\n",
       "      <td>7d----wxx4</td>\n",
       "      <td>7dwxx4</td>\n",
       "    </tr>\n",
       "    <tr>\n",
       "      <th>103</th>\n",
       "      <td>cm6yb</td>\n",
       "      <td>cm----66yb</td>\n",
       "      <td>cm66yb</td>\n",
       "    </tr>\n",
       "    <tr>\n",
       "      <th>108</th>\n",
       "      <td>mmg2m</td>\n",
       "      <td>mm---mmg2m</td>\n",
       "      <td>mmmmg2m</td>\n",
       "    </tr>\n",
       "    <tr>\n",
       "      <th>114</th>\n",
       "      <td>m5ym2</td>\n",
       "      <td>m5----ymm2</td>\n",
       "      <td>m5ymm2</td>\n",
       "    </tr>\n",
       "    <tr>\n",
       "      <th>115</th>\n",
       "      <td>5wddw</td>\n",
       "      <td>5w----dddw</td>\n",
       "      <td>5wdddw</td>\n",
       "    </tr>\n",
       "    <tr>\n",
       "      <th>124</th>\n",
       "      <td>xyyyw</td>\n",
       "      <td>xy----yyyw</td>\n",
       "      <td>xyyyyw</td>\n",
       "    </tr>\n",
       "    <tr>\n",
       "      <th>125</th>\n",
       "      <td>dmw8n</td>\n",
       "      <td>dm----ww8n</td>\n",
       "      <td>dmww8n</td>\n",
       "    </tr>\n",
       "    <tr>\n",
       "      <th>127</th>\n",
       "      <td>pm363</td>\n",
       "      <td>pm----3363</td>\n",
       "      <td>pm3363</td>\n",
       "    </tr>\n",
       "    <tr>\n",
       "      <th>132</th>\n",
       "      <td>bwmee</td>\n",
       "      <td>bw-----m-e</td>\n",
       "      <td>bwme</td>\n",
       "    </tr>\n",
       "    <tr>\n",
       "      <th>134</th>\n",
       "      <td>4m2w5</td>\n",
       "      <td>5m-----2w5</td>\n",
       "      <td>5m2w5</td>\n",
       "    </tr>\n",
       "    <tr>\n",
       "      <th>145</th>\n",
       "      <td>yw8y5</td>\n",
       "      <td>yw----8yy5</td>\n",
       "      <td>yw8yy5</td>\n",
       "    </tr>\n",
       "    <tr>\n",
       "      <th>148</th>\n",
       "      <td>dxwcw</td>\n",
       "      <td>dx----wccw</td>\n",
       "      <td>dxwccw</td>\n",
       "    </tr>\n",
       "    <tr>\n",
       "      <th>174</th>\n",
       "      <td>wd2gb</td>\n",
       "      <td>wd---d2g-b</td>\n",
       "      <td>wdd2gb</td>\n",
       "    </tr>\n",
       "    <tr>\n",
       "      <th>181</th>\n",
       "      <td>6xpme</td>\n",
       "      <td>6x----pmme</td>\n",
       "      <td>6xpmme</td>\n",
       "    </tr>\n",
       "    <tr>\n",
       "      <th>183</th>\n",
       "      <td>my84e</td>\n",
       "      <td>mw-----84e</td>\n",
       "      <td>mw84e</td>\n",
       "    </tr>\n",
       "    <tr>\n",
       "      <th>189</th>\n",
       "      <td>8eggg</td>\n",
       "      <td>8e--g-gg-g</td>\n",
       "      <td>8egggg</td>\n",
       "    </tr>\n",
       "    <tr>\n",
       "      <th>202</th>\n",
       "      <td>fw3b2</td>\n",
       "      <td>fw----3bb2</td>\n",
       "      <td>fw3bb2</td>\n",
       "    </tr>\n",
       "    <tr>\n",
       "      <th>210</th>\n",
       "      <td>gd8fb</td>\n",
       "      <td>gd----8ffb</td>\n",
       "      <td>gd8ffb</td>\n",
       "    </tr>\n",
       "    <tr>\n",
       "      <th>255</th>\n",
       "      <td>nn6w6</td>\n",
       "      <td>nn----6ww6</td>\n",
       "      <td>nn6ww6</td>\n",
       "    </tr>\n",
       "    <tr>\n",
       "      <th>256</th>\n",
       "      <td>ydd3g</td>\n",
       "      <td>yd----d33g</td>\n",
       "      <td>ydd33g</td>\n",
       "    </tr>\n",
       "    <tr>\n",
       "      <th>262</th>\n",
       "      <td>n5w5g</td>\n",
       "      <td>n5----w55g</td>\n",
       "      <td>n5w55g</td>\n",
       "    </tr>\n",
       "  </tbody>\n",
       "</table>\n",
       "</div>"
      ],
      "text/plain": [
       "    actual  prediction prediction_corrected\n",
       "3    ddcdd  dd--d-cd-d               dddcdd\n",
       "14   emwpn  em-----wpp                emwpp\n",
       "16   x76mn  x7----6mmn               x76mmn\n",
       "30   m3wfw  m33----wfw               m33wfw\n",
       "34   cwmny  cw-----m-n                 cwmn\n",
       "36   nmy2x  nm----yy2x               nmyy2x\n",
       "42   d4ppy  d4---4pp-y               d44ppy\n",
       "44   7bwm2  7b----wmm2               7bwmm2\n",
       "47   85622  85--5-62-2               855622\n",
       "48   mp7wp  mg-----7w-                 mg7w\n",
       "52   8pfxx  8p----fxxx               8pfxxx\n",
       "57   7w67m  7w----67mm               7w67mm\n",
       "64   m2576  m2----5576               m25576\n",
       "69   6m5eg  6m----75eg               6m75eg\n",
       "70   wwmn6  ww----mmn6               wwmmn6\n",
       "72   c3n8x  c3----n8xx               c3n8xx\n",
       "73   ddnpf  dd---dnp-f               dddnpf\n",
       "83   n3ffn  n3----ff-f                n3fff\n",
       "91   m75bf  m77---5b-f               m775bf\n",
       "95   3w2bw  3w----22bw               3w22bw\n",
       "99   5x7x5  6x----7x-5                6x7x5\n",
       "102  7dwx4  7d----wxx4               7dwxx4\n",
       "103  cm6yb  cm----66yb               cm66yb\n",
       "108  mmg2m  mm---mmg2m              mmmmg2m\n",
       "114  m5ym2  m5----ymm2               m5ymm2\n",
       "115  5wddw  5w----dddw               5wdddw\n",
       "124  xyyyw  xy----yyyw               xyyyyw\n",
       "125  dmw8n  dm----ww8n               dmww8n\n",
       "127  pm363  pm----3363               pm3363\n",
       "132  bwmee  bw-----m-e                 bwme\n",
       "134  4m2w5  5m-----2w5                5m2w5\n",
       "145  yw8y5  yw----8yy5               yw8yy5\n",
       "148  dxwcw  dx----wccw               dxwccw\n",
       "174  wd2gb  wd---d2g-b               wdd2gb\n",
       "181  6xpme  6x----pmme               6xpmme\n",
       "183  my84e  mw-----84e                mw84e\n",
       "189  8eggg  8e--g-gg-g               8egggg\n",
       "202  fw3b2  fw----3bb2               fw3bb2\n",
       "210  gd8fb  gd----8ffb               gd8ffb\n",
       "255  nn6w6  nn----6ww6               nn6ww6\n",
       "256  ydd3g  yd----d33g               ydd33g\n",
       "262  n5w5g  n5----w55g               n5w55g"
      ]
     },
     "execution_count": 123,
     "metadata": {},
     "output_type": "execute_result"
    }
   ],
   "source": [
    "# 모델 평가\n",
    "\n",
    "mistakes_df = results_test[results_test['actual'] != results_test['prediction_corrected']]\n",
    "mistakes_df"
   ]
  },
  {
   "cell_type": "code",
   "execution_count": 124,
   "metadata": {},
   "outputs": [
    {
     "name": "stdout",
     "output_type": "stream",
     "text": [
      "prediction_corrected\n",
      "6    33\n",
      "5     5\n",
      "4     3\n",
      "7     1\n",
      "Name: count, dtype: int64\n"
     ]
    }
   ],
   "source": [
    "print(mistakes_df['prediction_corrected'].str.len().value_counts())"
   ]
  },
  {
   "cell_type": "code",
   "execution_count": 125,
   "metadata": {},
   "outputs": [
    {
     "data": {
      "text/html": [
       "<div>\n",
       "<style scoped>\n",
       "    .dataframe tbody tr th:only-of-type {\n",
       "        vertical-align: middle;\n",
       "    }\n",
       "\n",
       "    .dataframe tbody tr th {\n",
       "        vertical-align: top;\n",
       "    }\n",
       "\n",
       "    .dataframe thead th {\n",
       "        text-align: right;\n",
       "    }\n",
       "</style>\n",
       "<table border=\"1\" class=\"dataframe\">\n",
       "  <thead>\n",
       "    <tr style=\"text-align: right;\">\n",
       "      <th></th>\n",
       "      <th>actual</th>\n",
       "      <th>prediction</th>\n",
       "      <th>prediction_corrected</th>\n",
       "    </tr>\n",
       "  </thead>\n",
       "  <tbody>\n",
       "    <tr>\n",
       "      <th>14</th>\n",
       "      <td>emwpn</td>\n",
       "      <td>em-----wpp</td>\n",
       "      <td>emwpp</td>\n",
       "    </tr>\n",
       "    <tr>\n",
       "      <th>83</th>\n",
       "      <td>n3ffn</td>\n",
       "      <td>n3----ff-f</td>\n",
       "      <td>n3fff</td>\n",
       "    </tr>\n",
       "    <tr>\n",
       "      <th>99</th>\n",
       "      <td>5x7x5</td>\n",
       "      <td>6x----7x-5</td>\n",
       "      <td>6x7x5</td>\n",
       "    </tr>\n",
       "    <tr>\n",
       "      <th>134</th>\n",
       "      <td>4m2w5</td>\n",
       "      <td>5m-----2w5</td>\n",
       "      <td>5m2w5</td>\n",
       "    </tr>\n",
       "    <tr>\n",
       "      <th>183</th>\n",
       "      <td>my84e</td>\n",
       "      <td>mw-----84e</td>\n",
       "      <td>mw84e</td>\n",
       "    </tr>\n",
       "  </tbody>\n",
       "</table>\n",
       "</div>"
      ],
      "text/plain": [
       "    actual  prediction prediction_corrected\n",
       "14   emwpn  em-----wpp                emwpp\n",
       "83   n3ffn  n3----ff-f                n3fff\n",
       "99   5x7x5  6x----7x-5                6x7x5\n",
       "134  4m2w5  5m-----2w5                5m2w5\n",
       "183  my84e  mw-----84e                mw84e"
      ]
     },
     "execution_count": 125,
     "metadata": {},
     "output_type": "execute_result"
    }
   ],
   "source": [
    "mask = mistakes_df['prediction_corrected'].str.len() == 5\n",
    "mistakes_df[mask]"
   ]
  },
  {
   "cell_type": "code",
   "execution_count": 126,
   "metadata": {},
   "outputs": [
    {
     "name": "stdout",
     "output_type": "stream",
     "text": [
      "data/emwpn.png\n"
     ]
    },
    {
     "data": {
      "image/png": "[encoded data removed]",
      "text/plain": [
       "<Figure size 640x480 with 1 Axes>"
      ]
     },
     "metadata": {},
     "output_type": "display_data"
    }
   ],
   "source": [
    "mistake_image_fp = os.path.join(data_path, mistakes_df[mask]['actual'].values[0] + \".png\")\n",
    "print(mistake_image_fp)\n",
    "mistake_image = Image.open(mistake_image_fp)\n",
    "plt.imshow(mistake_image)\n",
    "plt.show()"
   ]
  },
  {
   "cell_type": "code",
   "execution_count": 127,
   "metadata": {},
   "outputs": [
    {
     "name": "stdout",
     "output_type": "stream",
     "text": [
      "0.8204488778054863\n",
      "0.8432835820895522\n"
     ]
    }
   ],
   "source": [
    "train_accuracy = accuracy_score(results_train['actual'], results_train['prediction_corrected'])\n",
    "print(train_accuracy)\n",
    "test_accuracy = accuracy_score(results_test['actual'], results_test['prediction_corrected'])\n",
    "print(test_accuracy)"
   ]
  },
  {
   "cell_type": "code",
   "execution_count": 46,
   "metadata": {},
   "outputs": [],
   "source": [
    "# 학습한 모델 저장\n",
    "torch.save(crnn.state_dict(), \"crnn.pt\")"
   ]
  },
  {
   "cell_type": "code",
   "execution_count": 74,
   "metadata": {},
   "outputs": [
    {
     "data": {
      "text/plain": [
       "CRNN(\n",
       "  (cnn_p1): Sequential(\n",
       "    (0): Conv2d(3, 64, kernel_size=(7, 7), stride=(2, 2), padding=(3, 3), bias=False)\n",
       "    (1): BatchNorm2d(64, eps=1e-05, momentum=0.1, affine=True, track_running_stats=True)\n",
       "    (2): ReLU(inplace=True)\n",
       "    (3): MaxPool2d(kernel_size=3, stride=2, padding=1, dilation=1, ceil_mode=False)\n",
       "    (4): Sequential(\n",
       "      (0): BasicBlock(\n",
       "        (conv1): Conv2d(64, 64, kernel_size=(3, 3), stride=(1, 1), padding=(1, 1), bias=False)\n",
       "        (bn1): BatchNorm2d(64, eps=1e-05, momentum=0.1, affine=True, track_running_stats=True)\n",
       "        (relu): ReLU(inplace=True)\n",
       "        (conv2): Conv2d(64, 64, kernel_size=(3, 3), stride=(1, 1), padding=(1, 1), bias=False)\n",
       "        (bn2): BatchNorm2d(64, eps=1e-05, momentum=0.1, affine=True, track_running_stats=True)\n",
       "      )\n",
       "      (1): BasicBlock(\n",
       "        (conv1): Conv2d(64, 64, kernel_size=(3, 3), stride=(1, 1), padding=(1, 1), bias=False)\n",
       "        (bn1): BatchNorm2d(64, eps=1e-05, momentum=0.1, affine=True, track_running_stats=True)\n",
       "        (relu): ReLU(inplace=True)\n",
       "        (conv2): Conv2d(64, 64, kernel_size=(3, 3), stride=(1, 1), padding=(1, 1), bias=False)\n",
       "        (bn2): BatchNorm2d(64, eps=1e-05, momentum=0.1, affine=True, track_running_stats=True)\n",
       "      )\n",
       "    )\n",
       "    (5): Sequential(\n",
       "      (0): BasicBlock(\n",
       "        (conv1): Conv2d(64, 128, kernel_size=(3, 3), stride=(2, 2), padding=(1, 1), bias=False)\n",
       "        (bn1): BatchNorm2d(128, eps=1e-05, momentum=0.1, affine=True, track_running_stats=True)\n",
       "        (relu): ReLU(inplace=True)\n",
       "        (conv2): Conv2d(128, 128, kernel_size=(3, 3), stride=(1, 1), padding=(1, 1), bias=False)\n",
       "        (bn2): BatchNorm2d(128, eps=1e-05, momentum=0.1, affine=True, track_running_stats=True)\n",
       "        (downsample): Sequential(\n",
       "          (0): Conv2d(64, 128, kernel_size=(1, 1), stride=(2, 2), bias=False)\n",
       "          (1): BatchNorm2d(128, eps=1e-05, momentum=0.1, affine=True, track_running_stats=True)\n",
       "        )\n",
       "      )\n",
       "      (1): BasicBlock(\n",
       "        (conv1): Conv2d(128, 128, kernel_size=(3, 3), stride=(1, 1), padding=(1, 1), bias=False)\n",
       "        (bn1): BatchNorm2d(128, eps=1e-05, momentum=0.1, affine=True, track_running_stats=True)\n",
       "        (relu): ReLU(inplace=True)\n",
       "        (conv2): Conv2d(128, 128, kernel_size=(3, 3), stride=(1, 1), padding=(1, 1), bias=False)\n",
       "        (bn2): BatchNorm2d(128, eps=1e-05, momentum=0.1, affine=True, track_running_stats=True)\n",
       "      )\n",
       "    )\n",
       "    (6): Sequential(\n",
       "      (0): BasicBlock(\n",
       "        (conv1): Conv2d(128, 256, kernel_size=(3, 3), stride=(2, 2), padding=(1, 1), bias=False)\n",
       "        (bn1): BatchNorm2d(256, eps=1e-05, momentum=0.1, affine=True, track_running_stats=True)\n",
       "        (relu): ReLU(inplace=True)\n",
       "        (conv2): Conv2d(256, 256, kernel_size=(3, 3), stride=(1, 1), padding=(1, 1), bias=False)\n",
       "        (bn2): BatchNorm2d(256, eps=1e-05, momentum=0.1, affine=True, track_running_stats=True)\n",
       "        (downsample): Sequential(\n",
       "          (0): Conv2d(128, 256, kernel_size=(1, 1), stride=(2, 2), bias=False)\n",
       "          (1): BatchNorm2d(256, eps=1e-05, momentum=0.1, affine=True, track_running_stats=True)\n",
       "        )\n",
       "      )\n",
       "      (1): BasicBlock(\n",
       "        (conv1): Conv2d(256, 256, kernel_size=(3, 3), stride=(1, 1), padding=(1, 1), bias=False)\n",
       "        (bn1): BatchNorm2d(256, eps=1e-05, momentum=0.1, affine=True, track_running_stats=True)\n",
       "        (relu): ReLU(inplace=True)\n",
       "        (conv2): Conv2d(256, 256, kernel_size=(3, 3), stride=(1, 1), padding=(1, 1), bias=False)\n",
       "        (bn2): BatchNorm2d(256, eps=1e-05, momentum=0.1, affine=True, track_running_stats=True)\n",
       "      )\n",
       "    )\n",
       "  )\n",
       "  (cnn_p2): Sequential(\n",
       "    (0): Conv2d(256, 256, kernel_size=(3, 6), stride=(1, 1), padding=(1, 1))\n",
       "    (1): BatchNorm2d(256, eps=1e-05, momentum=0.1, affine=True, track_running_stats=True)\n",
       "    (2): ReLU(inplace=True)\n",
       "  )\n",
       "  (linear1): Linear(in_features=1024, out_features=256, bias=True)\n",
       "  (rnn1): GRU(256, 256, batch_first=True, bidirectional=True)\n",
       "  (rnn2): GRU(256, 256, batch_first=True, bidirectional=True)\n",
       "  (linear2): Linear(in_features=512, out_features=20, bias=True)\n",
       ")"
      ]
     },
     "execution_count": 74,
     "metadata": {},
     "output_type": "execute_result"
    }
   ],
   "source": [
    "# 저장한 모델을 불러와서 사용\n",
    "\n",
    "model = CRNN(num_chars,rnn_hidden_size=rnn_hidden_size)\n",
    "model.load_state_dict(torch.load(\"crnn.pt\"))\n",
    "model.eval()\n",
    "\n",
    "model.to(device)\n"
   ]
  },
  {
   "cell_type": "code",
   "execution_count": 75,
   "metadata": {},
   "outputs": [],
   "source": [
    "def transform(image):\n",
    "    transform_ops = transforms.Compose([\n",
    "        # 텐서로 변환\n",
    "        transforms.ToTensor(),\n",
    "        # 정규화\n",
    "        transforms.Normalize(mean=(0.485,0.456,0.406),std=(0.229,0.224,0.225))\n",
    "    ])\n",
    "    return transform_ops(image)"
   ]
  },
  {
   "cell_type": "code",
   "execution_count": 103,
   "metadata": {},
   "outputs": [
    {
     "name": "stdout",
     "output_type": "stream",
     "text": [
      "['22----d5-n']\n"
     ]
    }
   ],
   "source": [
    "# 모델을 사용하는 프로세스\n",
    "# 1. 특정 이미지 가져오기\n",
    "# 2. 이미지를 텐서로 변환 (쿠다에 할당)\n",
    "# 3. 모델을 forward로 돌린 후 \n",
    "# 4. 모델의 출력값을 디코딩\n",
    "    # 디코딩 과정은 모델의 출력값을 확률로 변환 후 가장 큰 값의 인덱스로 변환\n",
    "    # 예) [0.1, 0.2, 0.7] -> [0, 0, 1] -> \"C\"\n",
    "\n",
    "\n",
    "inputs = transform(Image.open(\"data/22d5n.png\").convert(\"RGB\"))\n",
    "# 쿠다\n",
    "inputs = inputs.to(device)\n",
    "# 모델 실행\n",
    "outputs = model(inputs.unsqueeze(0))\n",
    "\n",
    "decoded_outputs = decode_predictions(outputs.cpu())\n",
    "\n",
    "print(decoded_outputs)\n"
   ]
  }
 ],
 "metadata": {
  "kernelspec": {
   "display_name": "venv",
   "language": "python",
   "name": "python3"
  },
  "language_info": {
   "codemirror_mode": {
    "name": "ipython",
    "version": 3
   },
   "file_extension": ".py",
   "mimetype": "text/x-python",
   "name": "python",
   "nbconvert_exporter": "python",
   "pygments_lexer": "ipython3",
   "version": "3.11.4"
  },
  "orig_nbformat": 4
 },
 "nbformat": 4,
 "nbformat_minor": 2
}
